{
 "cells": [
  {
   "cell_type": "code",
   "execution_count": 1,
   "id": "01b8f930",
   "metadata": {},
   "outputs": [],
   "source": [
    "import os\n",
    "import pandas as pd\n",
    "import torch\n",
    "import torch.nn as nn\n",
    "from torchvision import transforms\n",
    "from PIL import Image\n",
    "from sklearn.metrics import accuracy_score, precision_score, recall_score, f1_score, roc_auc_score, confusion_matrix\n"
   ]
  },
  {
   "cell_type": "code",
   "execution_count": 2,
   "id": "53f48cd2",
   "metadata": {},
   "outputs": [],
   "source": [
    "# Set device\n",
    "device = torch.device(\"cuda\" if torch.cuda.is_available() else \"cpu\")\n",
    "\n",
    "# Define transform\n",
    "transform = transforms.Compose([\n",
    "    transforms.Resize((256, 256)),\n",
    "    transforms.ToTensor()\n",
    "])"
   ]
  },
  {
   "cell_type": "code",
   "execution_count": 8,
   "id": "0f5eaa7a",
   "metadata": {},
   "outputs": [],
   "source": [
    "class CustomCNN(nn.Module):\n",
    "    def __init__(self):\n",
    "        super(CustomCNN, self).__init__()\n",
    "        self.conv_layers = nn.Sequential(\n",
    "            nn.Conv2d(3, 16, 3, padding=1),\n",
    "            nn.ReLU(),\n",
    "            nn.MaxPool2d(2),\n",
    "\n",
    "            nn.Conv2d(16, 32, 3, padding=1),\n",
    "            nn.ReLU(),\n",
    "            nn.MaxPool2d(2),\n",
    "\n",
    "            nn.Conv2d(32, 64, 3, padding=1),\n",
    "            nn.ReLU(),\n",
    "            nn.MaxPool2d(2),\n",
    "        )\n",
    "        self.fc_layers = nn.Sequential(\n",
    "            nn.Flatten(),\n",
    "            nn.Linear(64 * 32 * 32, 128),\n",
    "            nn.ReLU(),\n",
    "            nn.Dropout(0.3),\n",
    "            nn.Linear(128, 2)  # Binary classification\n",
    "        )\n",
    "\n",
    "    def forward(self, x):\n",
    "        x = self.conv_layers(x)\n",
    "        x = self.fc_layers(x)\n",
    "        return x\n"
   ]
  },
  {
   "cell_type": "code",
   "execution_count": 9,
   "id": "a3e8d5ed",
   "metadata": {},
   "outputs": [
    {
     "name": "stdout",
     "output_type": "stream",
     "text": [
      "📊 Evaluation for TRAIN\n",
      "Accuracy: 0.9359464140179299\n",
      "Precision: 0.9973852411388727\n",
      "Recall: 0.5780434416568446\n",
      "F1-Score: 0.7319049141882529\n",
      "AUC-ROC: 0.9528855416413458\n",
      "Confusion Matrix: [[33316, 9], [2506, 3433]]\n",
      "\n",
      "📊 Evaluation for VAL\n",
      "Accuracy: 0.8527279210745276\n",
      "Precision: 0.5662100456621004\n",
      "Recall: 0.19121048573631458\n",
      "F1-Score: 0.2858789625360231\n",
      "AUC-ROC: 0.6920706668174882\n",
      "Confusion Matrix: [[6926, 190], [1049, 248]]\n",
      "\n",
      "📊 Evaluation for TEST\n",
      "Accuracy: 0.8576351752822341\n",
      "Precision: 0.5634517766497462\n",
      "Recall: 0.1778846153846154\n",
      "F1-Score: 0.27040194884287455\n",
      "AUC-ROC: 0.6854948942446326\n",
      "Confusion Matrix: [[6995, 172], [1026, 222]]\n",
      "\n"
     ]
    }
   ],
   "source": [
    "# Load trained model\n",
    "model = CustomCNN().to(device)\n",
    "model.load_state_dict(torch.load(\"custom_cnn_model.pth\", map_location=device))\n",
    "model.eval()\n",
    "\n",
    "# Evaluation function\n",
    "def evaluate_model_on_split(split_name):\n",
    "    base_path = f\"../artifact_folder/{split_name}\"\n",
    "    labels_df = pd.read_csv(os.path.join(base_path, \"labels.csv\"))\n",
    "    images_dir = os.path.join(base_path, \"images\")\n",
    "\n",
    "    y_true, y_pred, y_score = [], [], []\n",
    "\n",
    "    for _, row in labels_df.iterrows():\n",
    "        img_path = os.path.join(images_dir, row[\"filename\"])\n",
    "        image = Image.open(img_path).convert(\"RGB\")\n",
    "        input_tensor = transform(image).unsqueeze(0).to(device)\n",
    "\n",
    "        with torch.no_grad():\n",
    "            output = model(input_tensor)\n",
    "            pred = output.argmax(dim=1).item()\n",
    "            prob = torch.softmax(output, dim=1)[0][1].item()\n",
    "\n",
    "        label = 1 if row[\"label\"].lower() == \"cracked\" else 0\n",
    "        y_true.append(label)\n",
    "        y_pred.append(pred)\n",
    "        y_score.append(prob)\n",
    "\n",
    "    return {\n",
    "        \"Accuracy\": accuracy_score(y_true, y_pred),\n",
    "        \"Precision\": precision_score(y_true, y_pred),\n",
    "        \"Recall\": recall_score(y_true, y_pred),\n",
    "        \"F1-Score\": f1_score(y_true, y_pred),\n",
    "        \"AUC-ROC\": roc_auc_score(y_true, y_score),\n",
    "        \"Confusion Matrix\": confusion_matrix(y_true, y_pred).tolist()\n",
    "    }\n",
    "\n",
    "# Run on all sets\n",
    "for split in ['train', 'val', 'test']:\n",
    "    print(f\"📊 Evaluation for {split.upper()}\")\n",
    "    metrics = evaluate_model_on_split(split)\n",
    "    for k, v in metrics.items():\n",
    "        print(f\"{k}: {v}\")\n",
    "    print()"
   ]
  },
  {
   "cell_type": "code",
   "execution_count": 11,
   "id": "b6f1063c",
   "metadata": {},
   "outputs": [],
   "source": [
    "class DeeperCNN(nn.Module):\n",
    "    def __init__(self):\n",
    "        super(DeeperCNN, self).__init__()\n",
    "        self.conv_layers = nn.Sequential(\n",
    "            nn.Conv2d(3, 32, kernel_size=3, padding=1),\n",
    "            nn.ReLU(),\n",
    "            nn.MaxPool2d(2),\n",
    "            nn.Dropout(0.25),\n",
    "\n",
    "            nn.Conv2d(32, 64, kernel_size=3, padding=1),\n",
    "            nn.ReLU(),\n",
    "            nn.MaxPool2d(2),\n",
    "            nn.Dropout(0.25),\n",
    "\n",
    "            nn.Conv2d(64, 128, kernel_size=3, padding=1),\n",
    "            nn.ReLU(),\n",
    "            nn.MaxPool2d(2),\n",
    "            nn.Dropout(0.25),\n",
    "\n",
    "            nn.Conv2d(128, 256, kernel_size=3, padding=1),\n",
    "            nn.ReLU(),\n",
    "            nn.MaxPool2d(2),\n",
    "            nn.Dropout(0.25),\n",
    "        )\n",
    "        self.fc_layers = nn.Sequential(\n",
    "            nn.Flatten(),\n",
    "            nn.Linear(256 * 16 * 16, 256),\n",
    "            nn.ReLU(),\n",
    "            nn.Dropout(0.5),\n",
    "            nn.Linear(256, 2)  # 2 classes\n",
    "        )\n",
    "\n",
    "    def forward(self, x):\n",
    "        x = self.conv_layers(x)\n",
    "        x = self.fc_layers(x)\n",
    "        return x"
   ]
  },
  {
   "cell_type": "code",
   "execution_count": 12,
   "id": "e3fdd00d",
   "metadata": {},
   "outputs": [
    {
     "name": "stdout",
     "output_type": "stream",
     "text": [
      "📊 Evaluation for TRAIN\n"
     ]
    },
    {
     "name": "stderr",
     "output_type": "stream",
     "text": [
      "/Users/nanphattongsirisukool/Documents/GitHub/Structural-Defects-Network-MLOps/env/lib/python3.11/site-packages/sklearn/metrics/_classification.py:1565: UndefinedMetricWarning: Precision is ill-defined and being set to 0.0 due to no predicted samples. Use `zero_division` parameter to control this behavior.\n",
      "  _warn_prf(average, modifier, f\"{metric.capitalize()} is\", len(result))\n"
     ]
    },
    {
     "name": "stdout",
     "output_type": "stream",
     "text": [
      "Accuracy: 0.8487418500407498\n",
      "Precision: 0.0\n",
      "Recall: 0.0\n",
      "F1-Score: 0.0\n",
      "AUC-ROC: 0.487823583274165\n",
      "Confusion Matrix: [[33325, 0], [5939, 0]]\n",
      "\n",
      "📊 Evaluation for VAL\n"
     ]
    },
    {
     "name": "stderr",
     "output_type": "stream",
     "text": [
      "/Users/nanphattongsirisukool/Documents/GitHub/Structural-Defects-Network-MLOps/env/lib/python3.11/site-packages/sklearn/metrics/_classification.py:1565: UndefinedMetricWarning: Precision is ill-defined and being set to 0.0 due to no predicted samples. Use `zero_division` parameter to control this behavior.\n",
      "  _warn_prf(average, modifier, f\"{metric.capitalize()} is\", len(result))\n"
     ]
    },
    {
     "name": "stdout",
     "output_type": "stream",
     "text": [
      "Accuracy: 0.8458338285985975\n",
      "Precision: 0.0\n",
      "Recall: 0.0\n",
      "F1-Score: 0.0\n",
      "AUC-ROC: 0.48868984854138686\n",
      "Confusion Matrix: [[7116, 0], [1297, 0]]\n",
      "\n",
      "📊 Evaluation for TEST\n",
      "Accuracy: 0.8516934046345811\n",
      "Precision: 0.0\n",
      "Recall: 0.0\n",
      "F1-Score: 0.0\n",
      "AUC-ROC: 0.49176782475233705\n",
      "Confusion Matrix: [[7167, 0], [1248, 0]]\n",
      "\n"
     ]
    },
    {
     "name": "stderr",
     "output_type": "stream",
     "text": [
      "/Users/nanphattongsirisukool/Documents/GitHub/Structural-Defects-Network-MLOps/env/lib/python3.11/site-packages/sklearn/metrics/_classification.py:1565: UndefinedMetricWarning: Precision is ill-defined and being set to 0.0 due to no predicted samples. Use `zero_division` parameter to control this behavior.\n",
      "  _warn_prf(average, modifier, f\"{metric.capitalize()} is\", len(result))\n"
     ]
    }
   ],
   "source": [
    "# Load trained model\n",
    "model = DeeperCNN().to(device)\n",
    "model.load_state_dict(torch.load(\"deeper_cnn_model.pth\", map_location=device))\n",
    "model.eval()\n",
    "\n",
    "# Evaluation function\n",
    "def evaluate_model_on_split(split_name):\n",
    "    base_path = f\"../artifact_folder/{split_name}\"\n",
    "    labels_df = pd.read_csv(os.path.join(base_path, \"labels.csv\"))\n",
    "    images_dir = os.path.join(base_path, \"images\")\n",
    "\n",
    "    y_true, y_pred, y_score = [], [], []\n",
    "\n",
    "    for _, row in labels_df.iterrows():\n",
    "        img_path = os.path.join(images_dir, row[\"filename\"])\n",
    "        image = Image.open(img_path).convert(\"RGB\")\n",
    "        input_tensor = transform(image).unsqueeze(0).to(device)\n",
    "\n",
    "        with torch.no_grad():\n",
    "            output = model(input_tensor)\n",
    "            pred = output.argmax(dim=1).item()\n",
    "            prob = torch.softmax(output, dim=1)[0][1].item()\n",
    "\n",
    "        label = 1 if row[\"label\"].lower() == \"cracked\" else 0\n",
    "        y_true.append(label)\n",
    "        y_pred.append(pred)\n",
    "        y_score.append(prob)\n",
    "\n",
    "    return {\n",
    "        \"Accuracy\": accuracy_score(y_true, y_pred),\n",
    "        \"Precision\": precision_score(y_true, y_pred),\n",
    "        \"Recall\": recall_score(y_true, y_pred),\n",
    "        \"F1-Score\": f1_score(y_true, y_pred),\n",
    "        \"AUC-ROC\": roc_auc_score(y_true, y_score),\n",
    "        \"Confusion Matrix\": confusion_matrix(y_true, y_pred).tolist()\n",
    "    }\n",
    "\n",
    "# Run on all sets\n",
    "for split in ['train', 'val', 'test']:\n",
    "    print(f\"📊 Evaluation for {split.upper()}\")\n",
    "    metrics = evaluate_model_on_split(split)\n",
    "    for k, v in metrics.items():\n",
    "        print(f\"{k}: {v}\")\n",
    "    print()"
   ]
  },
  {
   "cell_type": "code",
   "execution_count": null,
   "id": "c37bcf85",
   "metadata": {},
   "outputs": [],
   "source": []
  },
  {
   "cell_type": "code",
   "execution_count": 13,
   "id": "59952648",
   "metadata": {},
   "outputs": [
    {
     "name": "stdout",
     "output_type": "stream",
     "text": [
      "📊 Evaluation for TRAIN\n"
     ]
    },
    {
     "name": "stderr",
     "output_type": "stream",
     "text": [
      "/Users/nanphattongsirisukool/Documents/GitHub/Structural-Defects-Network-MLOps/env/lib/python3.11/site-packages/sklearn/metrics/_classification.py:1565: UndefinedMetricWarning: Precision is ill-defined and being set to 0.0 due to no predicted samples. Use `zero_division` parameter to control this behavior.\n",
      "  _warn_prf(average, modifier, f\"{metric.capitalize()} is\", len(result))\n"
     ]
    },
    {
     "name": "stdout",
     "output_type": "stream",
     "text": [
      "Accuracy: 0.8487418500407498\n",
      "Precision: 0.0\n",
      "Recall: 0.0\n",
      "F1-Score: 0.0\n",
      "AUC-ROC: 0.6957914339672644\n",
      "Confusion Matrix: [[33325, 0], [5939, 0]]\n",
      "\n",
      "📊 Evaluation for VAL\n"
     ]
    },
    {
     "name": "stderr",
     "output_type": "stream",
     "text": [
      "/Users/nanphattongsirisukool/Documents/GitHub/Structural-Defects-Network-MLOps/env/lib/python3.11/site-packages/sklearn/metrics/_classification.py:1565: UndefinedMetricWarning: Precision is ill-defined and being set to 0.0 due to no predicted samples. Use `zero_division` parameter to control this behavior.\n",
      "  _warn_prf(average, modifier, f\"{metric.capitalize()} is\", len(result))\n"
     ]
    },
    {
     "name": "stdout",
     "output_type": "stream",
     "text": [
      "Accuracy: 0.8458338285985975\n",
      "Precision: 0.0\n",
      "Recall: 0.0\n",
      "F1-Score: 0.0\n",
      "AUC-ROC: 0.698609733275605\n",
      "Confusion Matrix: [[7116, 0], [1297, 0]]\n",
      "\n",
      "📊 Evaluation for TEST\n",
      "Accuracy: 0.8516934046345811\n",
      "Precision: 0.0\n",
      "Recall: 0.0\n",
      "F1-Score: 0.0\n",
      "AUC-ROC: 0.6834319870632135\n",
      "Confusion Matrix: [[7167, 0], [1248, 0]]\n",
      "\n"
     ]
    },
    {
     "name": "stderr",
     "output_type": "stream",
     "text": [
      "/Users/nanphattongsirisukool/Documents/GitHub/Structural-Defects-Network-MLOps/env/lib/python3.11/site-packages/sklearn/metrics/_classification.py:1565: UndefinedMetricWarning: Precision is ill-defined and being set to 0.0 due to no predicted samples. Use `zero_division` parameter to control this behavior.\n",
      "  _warn_prf(average, modifier, f\"{metric.capitalize()} is\", len(result))\n"
     ]
    }
   ],
   "source": [
    "# Load trained model\n",
    "model = CustomCNN().to(device)\n",
    "model.load_state_dict(torch.load(\"custom_cnn_model_updated.pth\", map_location=device))\n",
    "model.eval()\n",
    "\n",
    "# Evaluation function\n",
    "def evaluate_model_on_split(split_name):\n",
    "    base_path = f\"../artifact_folder/{split_name}\"\n",
    "    labels_df = pd.read_csv(os.path.join(base_path, \"labels.csv\"))\n",
    "    images_dir = os.path.join(base_path, \"images\")\n",
    "\n",
    "    y_true, y_pred, y_score = [], [], []\n",
    "\n",
    "    for _, row in labels_df.iterrows():\n",
    "        img_path = os.path.join(images_dir, row[\"filename\"])\n",
    "        image = Image.open(img_path).convert(\"RGB\")\n",
    "        input_tensor = transform(image).unsqueeze(0).to(device)\n",
    "\n",
    "        with torch.no_grad():\n",
    "            output = model(input_tensor)\n",
    "            pred = output.argmax(dim=1).item()\n",
    "            prob = torch.softmax(output, dim=1)[0][1].item()\n",
    "\n",
    "        label = 1 if row[\"label\"].lower() == \"cracked\" else 0\n",
    "        y_true.append(label)\n",
    "        y_pred.append(pred)\n",
    "        y_score.append(prob)\n",
    "\n",
    "    return {\n",
    "        \"Accuracy\": accuracy_score(y_true, y_pred),\n",
    "        \"Precision\": precision_score(y_true, y_pred),\n",
    "        \"Recall\": recall_score(y_true, y_pred),\n",
    "        \"F1-Score\": f1_score(y_true, y_pred),\n",
    "        \"AUC-ROC\": roc_auc_score(y_true, y_score),\n",
    "        \"Confusion Matrix\": confusion_matrix(y_true, y_pred).tolist()\n",
    "    }\n",
    "\n",
    "# Run on all sets\n",
    "for split in ['train', 'val', 'test']:\n",
    "    print(f\"📊 Evaluation for {split.upper()}\")\n",
    "    metrics = evaluate_model_on_split(split)\n",
    "    for k, v in metrics.items():\n",
    "        print(f\"{k}: {v}\")\n",
    "    print()"
   ]
  }
 ],
 "metadata": {
  "kernelspec": {
   "display_name": "env",
   "language": "python",
   "name": "python3"
  },
  "language_info": {
   "codemirror_mode": {
    "name": "ipython",
    "version": 3
   },
   "file_extension": ".py",
   "mimetype": "text/x-python",
   "name": "python",
   "nbconvert_exporter": "python",
   "pygments_lexer": "ipython3",
   "version": "3.11.5"
  }
 },
 "nbformat": 4,
 "nbformat_minor": 5
}
