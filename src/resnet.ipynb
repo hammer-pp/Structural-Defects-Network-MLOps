{
 "cells": [
  {
   "cell_type": "code",
   "execution_count": 22,
   "id": "31b19507",
   "metadata": {},
   "outputs": [],
   "source": [
    "import torch\n",
    "import torch.nn as nn\n",
    "from torchvision import models, transforms\n",
    "from torch.utils.data import DataLoader\n",
    "import torch.optim as optim\n",
    "import os\n",
    "import pandas as pd\n",
    "from torch.utils.data import Dataset\n",
    "from PIL import Image\n"
   ]
  },
  {
   "cell_type": "code",
   "execution_count": 23,
   "id": "55eca456",
   "metadata": {},
   "outputs": [],
   "source": [
    "transform = transforms.Compose([\n",
    "    transforms.Resize((224, 224)),\n",
    "    transforms.ToTensor(),\n",
    "    transforms.Normalize(mean=[0.485, 0.456, 0.406], std=[0.229, 0.224, 0.225])\n",
    "])\n"
   ]
  },
  {
   "cell_type": "code",
   "execution_count": 24,
   "id": "61585d66",
   "metadata": {},
   "outputs": [],
   "source": [
    "class CrackDataset(Dataset):\n",
    "    def __init__(self, csv_path, img_dir, transform=None):\n",
    "        self.labels_df = pd.read_csv(csv_path)\n",
    "        self.img_dir = img_dir\n",
    "        self.transform = transform\n",
    "        self.label_map = {'Non-cracked': 0, 'Cracked': 1}\n",
    "\n",
    "    def __len__(self):\n",
    "        return len(self.labels_df)\n",
    "\n",
    "    def __getitem__(self, idx):\n",
    "        img_name = self.labels_df.iloc[idx, 0]\n",
    "        label = self.label_map[self.labels_df.iloc[idx, 1]]\n",
    "        img_path = os.path.join(self.img_dir, img_name)\n",
    "        image = Image.open(img_path).convert(\"RGB\")\n",
    "        if self.transform:\n",
    "            image = self.transform(image)\n",
    "        return image, label"
   ]
  },
  {
   "cell_type": "code",
   "execution_count": 15,
   "id": "eedad1a7",
   "metadata": {},
   "outputs": [],
   "source": [
    "# Load datasets\n",
    "train_dataset = CrackDataset('../artifact_folder/train/labels.csv', '../artifact_folder/train/images', transform)\n",
    "val_dataset = CrackDataset('../artifact_folder/val/labels.csv', '../artifact_folder/val/images', transform)\n",
    "test_dataset = CrackDataset('../artifact_folder/test/labels.csv', '../artifact_folder/test/images', transform)\n",
    "\n",
    "train_loader = DataLoader(train_dataset, batch_size=32, shuffle=True)\n",
    "val_loader = DataLoader(val_dataset, batch_size=32)\n",
    "test_loader = DataLoader(test_dataset, batch_size=32)\n"
   ]
  },
  {
   "cell_type": "code",
   "execution_count": 16,
   "id": "8ee704cd",
   "metadata": {},
   "outputs": [
    {
     "name": "stderr",
     "output_type": "stream",
     "text": [
      "/Users/nanphattongsirisukool/Documents/GitHub/Structural-Defects-Network-MLOps/env/lib/python3.11/site-packages/torchvision/models/_utils.py:208: UserWarning: The parameter 'pretrained' is deprecated since 0.13 and may be removed in the future, please use 'weights' instead.\n",
      "  warnings.warn(\n",
      "/Users/nanphattongsirisukool/Documents/GitHub/Structural-Defects-Network-MLOps/env/lib/python3.11/site-packages/torchvision/models/_utils.py:223: UserWarning: Arguments other than a weight enum or `None` for 'weights' are deprecated since 0.13 and may be removed in the future. The current behavior is equivalent to passing `weights=ResNet18_Weights.IMAGENET1K_V1`. You can also use `weights=ResNet18_Weights.DEFAULT` to get the most up-to-date weights.\n",
      "  warnings.warn(msg)\n",
      "Downloading: \"https://download.pytorch.org/models/resnet18-f37072fd.pth\" to /Users/nanphattongsirisukool/.cache/torch/hub/checkpoints/resnet18-f37072fd.pth\n",
      "100%|██████████| 44.7M/44.7M [00:24<00:00, 1.89MB/s]\n"
     ]
    }
   ],
   "source": [
    "model = models.resnet18(pretrained=True)\n",
    "num_features = model.fc.in_features\n",
    "model.fc = nn.Linear(num_features, 2)  # 2 classes: Cracked / Non-cracked\n"
   ]
  },
  {
   "cell_type": "code",
   "execution_count": 17,
   "id": "d459dc0b",
   "metadata": {},
   "outputs": [],
   "source": [
    "device = torch.device(\"cuda\" if torch.cuda.is_available() else \"cpu\")\n",
    "model.to(device)\n",
    "\n",
    "criterion = nn.CrossEntropyLoss()\n",
    "optimizer = optim.Adam(model.parameters(), lr=0.001)\n"
   ]
  },
  {
   "cell_type": "code",
   "execution_count": 18,
   "id": "434b2d6e",
   "metadata": {},
   "outputs": [],
   "source": [
    "def train_model(model, train_loader, val_loader, criterion, optimizer, epochs=10):\n",
    "    for epoch in range(epochs):\n",
    "        model.train()\n",
    "        running_loss = 0.0\n",
    "        correct = 0\n",
    "\n",
    "        for inputs, labels in train_loader:\n",
    "            inputs, labels = inputs.to(device), labels.to(device)\n",
    "\n",
    "            optimizer.zero_grad()\n",
    "            outputs = model(inputs)\n",
    "            loss = criterion(outputs, labels)\n",
    "            loss.backward()\n",
    "            optimizer.step()\n",
    "\n",
    "            running_loss += loss.item() * inputs.size(0)\n",
    "            correct += (outputs.argmax(1) == labels).sum().item()\n",
    "\n",
    "        train_acc = correct / len(train_loader.dataset)\n",
    "        print(f\"Epoch {epoch+1}, Loss: {running_loss:.4f}, Accuracy: {train_acc:.4f}\")\n"
   ]
  },
  {
   "cell_type": "code",
   "execution_count": 20,
   "id": "c9ed2ec5",
   "metadata": {},
   "outputs": [],
   "source": [
    "def evaluate(model, val_loader):\n",
    "    model.eval()\n",
    "    correct = 0\n",
    "    with torch.no_grad():\n",
    "        for images, labels in val_loader:\n",
    "            images, labels = images.to(device), labels.to(device)\n",
    "            outputs = model(images)\n",
    "            correct += (outputs.argmax(1) == labels).sum().item()\n",
    "    val_accuracy = correct / len(val_loader.dataset)\n",
    "    print(f'Validation Accuracy: {val_accuracy:.4f}')\n"
   ]
  },
  {
   "cell_type": "code",
   "execution_count": 25,
   "id": "75037da2",
   "metadata": {},
   "outputs": [
    {
     "name": "stdout",
     "output_type": "stream",
     "text": [
      "Epoch 1, Loss: 10595.1421, Accuracy: 0.6364\n",
      "Epoch 2, Loss: 8369.4019, Accuracy: 0.7607\n",
      "Epoch 3, Loss: 7632.7484, Accuracy: 0.7905\n",
      "Epoch 4, Loss: 6988.4895, Accuracy: 0.8122\n",
      "Epoch 5, Loss: 6575.0189, Accuracy: 0.8294\n",
      "Epoch 6, Loss: 6196.2417, Accuracy: 0.8418\n",
      "Epoch 7, Loss: 5777.6937, Accuracy: 0.8535\n",
      "Epoch 8, Loss: 5029.1505, Accuracy: 0.8744\n",
      "Epoch 9, Loss: 4336.9726, Accuracy: 0.8923\n",
      "Epoch 10, Loss: 3418.7692, Accuracy: 0.9177\n",
      "Validation Accuracy: 0.8733\n"
     ]
    }
   ],
   "source": [
    "train_model(model, train_loader, val_loader, criterion, optimizer, epochs=10)\n",
    "evaluate(model, val_loader)\n"
   ]
  },
  {
   "cell_type": "code",
   "execution_count": 27,
   "id": "c9ef4c99",
   "metadata": {},
   "outputs": [],
   "source": [
    "torch.save(model.state_dict(), '../model/resnet_crack_classifier.pth')"
   ]
  },
  {
   "cell_type": "code",
   "execution_count": 28,
   "id": "62ddbca7",
   "metadata": {},
   "outputs": [
    {
     "name": "stdout",
     "output_type": "stream",
     "text": [
      "📊 Evaluation for TRAIN\n",
      "Accuracy: 0.934052333804809\n",
      "Precision: 0.9719338715878508\n",
      "Recall: 0.8939179632248939\n",
      "F1-Score: 0.9312948977712285\n",
      "AUC-ROC: 0.9850882188643193\n",
      "Confusion Matrix: [[8265, 219], [900, 7584]]\n",
      "\n",
      "📊 Evaluation for VAL\n",
      "Accuracy: 0.8732913348389397\n",
      "Precision: 0.5607424071991001\n",
      "Recall: 0.7776911076443058\n",
      "F1-Score: 0.6516339869281046\n",
      "AUC-ROC: 0.9078117100283506\n",
      "Confusion Matrix: [[6350, 781], [285, 997]]\n",
      "\n",
      "📊 Evaluation for TEST\n",
      "Accuracy: 0.8680926916221033\n",
      "Precision: 0.5438100621820238\n",
      "Recall: 0.7604743083003953\n",
      "F1-Score: 0.6341463414634146\n",
      "AUC-ROC: 0.8975873296663811\n",
      "Confusion Matrix: [[6343, 807], [303, 962]]\n",
      "\n"
     ]
    }
   ],
   "source": [
    "from sklearn.metrics import (\n",
    "    accuracy_score, precision_score, recall_score,\n",
    "    f1_score, roc_auc_score, confusion_matrix\n",
    ")\n",
    "\n",
    "# Make sure model is in eval mode\n",
    "model.eval()\n",
    "\n",
    "# Consistent transform (same used during training)\n",
    "transform = transforms.Compose([\n",
    "    transforms.Resize((224, 224)),\n",
    "    transforms.ToTensor(),\n",
    "    transforms.Normalize(mean=[0.485, 0.456, 0.406], std=[0.229, 0.224, 0.225])\n",
    "])\n",
    "\n",
    "# Evaluation function\n",
    "def evaluate_model_on_split(split_name):\n",
    "    base_path = f\"../artifact_folder/{split_name}\"\n",
    "    labels_df = pd.read_csv(os.path.join(base_path, \"labels.csv\"))\n",
    "    images_dir = os.path.join(base_path, \"images\")\n",
    "\n",
    "    y_true, y_pred, y_score = [], [], []\n",
    "\n",
    "    for _, row in labels_df.iterrows():\n",
    "        img_path = os.path.join(images_dir, row[\"filename\"])\n",
    "        image = Image.open(img_path).convert(\"RGB\")\n",
    "        input_tensor = transform(image).unsqueeze(0).to(device)\n",
    "\n",
    "        with torch.no_grad():\n",
    "            output = model(input_tensor)\n",
    "            pred = output.argmax(dim=1).item()\n",
    "            prob = torch.softmax(output, dim=1)[0][1].item()\n",
    "\n",
    "        label = 1 if row[\"label\"].lower() == \"cracked\" else 0\n",
    "        y_true.append(label)\n",
    "        y_pred.append(pred)\n",
    "        y_score.append(prob)\n",
    "\n",
    "    return {\n",
    "        \"Accuracy\": accuracy_score(y_true, y_pred),\n",
    "        \"Precision\": precision_score(y_true, y_pred, zero_division=0),\n",
    "        \"Recall\": recall_score(y_true, y_pred, zero_division=0),\n",
    "        \"F1-Score\": f1_score(y_true, y_pred, zero_division=0),\n",
    "        \"AUC-ROC\": roc_auc_score(y_true, y_score),\n",
    "        \"Confusion Matrix\": confusion_matrix(y_true, y_pred).tolist()\n",
    "    }\n",
    "\n",
    "# Run on all sets\n",
    "for split in ['train', 'val', 'test']:\n",
    "    print(f\"📊 Evaluation for {split.upper()}\")\n",
    "    metrics = evaluate_model_on_split(split)\n",
    "    for k, v in metrics.items():\n",
    "        print(f\"{k}: {v}\")\n",
    "    print()\n"
   ]
  },
  {
   "cell_type": "code",
   "execution_count": null,
   "id": "5d1e03c2",
   "metadata": {},
   "outputs": [],
   "source": []
  }
 ],
 "metadata": {
  "kernelspec": {
   "display_name": "env",
   "language": "python",
   "name": "python3"
  },
  "language_info": {
   "codemirror_mode": {
    "name": "ipython",
    "version": 3
   },
   "file_extension": ".py",
   "mimetype": "text/x-python",
   "name": "python",
   "nbconvert_exporter": "python",
   "pygments_lexer": "ipython3",
   "version": "3.11.5"
  }
 },
 "nbformat": 4,
 "nbformat_minor": 5
}
